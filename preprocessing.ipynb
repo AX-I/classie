{
 "cells": [
  {
   "cell_type": "code",
   "execution_count": 50,
   "metadata": {},
   "outputs": [],
   "source": [
    "# Importing all required methods\n",
    "%matplotlib inline\n",
    "\n",
    "import torch\n",
    "import torch.nn as nn\n",
    "import torchvision.models as models\n",
    "import torchvision.transforms as transforms\n",
    "import torchvision.datasets as datasets\n",
    "from torch.utils.data import DataLoader\n",
    "from torch.optim import Adam\n",
    "import os\n",
    "import IPython.display as ipd\n",
    "import numpy as np\n",
    "import pandas as pd\n",
    "import matplotlib.pyplot as plt\n",
    "import seaborn as sns\n",
    "from sklearn.preprocessing import MultiLabelBinarizer\n",
    "import myutils"
   ]
  },
  {
   "cell_type": "code",
   "execution_count": 51,
   "metadata": {},
   "outputs": [
    {
     "name": "stdout",
     "output_type": "stream",
     "text": [
      "Current directory: c:\\Users\\Tobey\\Desktop\\csc413-final-project\n"
     ]
    }
   ],
   "source": [
    "# Directory where mp3 are stored.\n",
    "AUDIO_DIR = os.environ.get('AUDIO_DIR')\n",
    "current_directory = os.getcwd()\n",
    "\n",
    "# Print the current working directory\n",
    "print(\"Current directory:\", current_directory)\n",
    "\n",
    "# Load metadata and features.\n",
    "tracks = myutils.load('data/fma_metadata/tracks.csv')\n",
    "genres = myutils.load('data/fma_metadata/genres.csv')\n",
    "features = myutils.load('data/fma_metadata/features.csv')\n",
    "echonest = myutils.load('data/fma_metadata/echonest.csv')"
   ]
  },
  {
   "cell_type": "code",
   "execution_count": 85,
   "metadata": {},
   "outputs": [
    {
     "name": "stdout",
     "output_type": "stream",
     "text": [
      "          genre_top\n",
      "track_id           \n",
      "2                 7\n",
      "5                 7\n",
      "10               12\n"
     ]
    }
   ],
   "source": [
    "small_tracks = tracks[tracks['set', 'subset'] <= 'small']\n",
    "small_tracks.shape\n",
    "\n",
    "small_features = features[tracks['set', 'subset'] <= 'small']\n",
    "small_features.shape\n",
    "\n",
    "hottest_genres = small_tracks[\"track\"][\"genre_top\"]\n",
    "\n",
    "hottest_genres = hottest_genres.to_frame()\n",
    "\n",
    "# for index, value in hottest_genres.iteritems():\n",
    "#     print(f'Index: {index}, Value: {value}')\n",
    "\n",
    "for column in hottest_genres.select_dtypes(include=\"category\").columns:\n",
    "    # print(f\"Categories in {column}: {hottest_genres[column].cat.categories}\")\n",
    "    hottest_genres[column] = hottest_genres[column].cat.codes\n",
    "    \n",
    "print(hottest_genres[:3])\n",
    "\n",
    "# hottest_genres = hottest_genres.dropna()\n",
    "\n",
    "# print(len(hottest_genres))\n",
    "\n",
    "# ipd.display(hottest_genres)"
   ]
  },
  {
   "cell_type": "code",
   "execution_count": null,
   "metadata": {},
   "outputs": [],
   "source": [
    "print('{} tracks, {} artists, {} albums, {} genres'.format(\n",
    "    len(tracks), len(tracks['artist', 'id'].unique()),\n",
    "    len(tracks['album', 'id'].unique()),\n",
    "    sum(genres['#tracks'] > 0)))\n",
    "mean_duration = tracks['track', 'duration'].mean()\n",
    "print('track duration: {:.0f} days total, {:.0f} seconds average'.format(\n",
    "    sum(tracks['track', 'duration']) / 3600 / 24,\n",
    "    mean_duration))"
   ]
  }
 ],
 "metadata": {
  "kernelspec": {
   "display_name": "Python 3",
   "language": "python",
   "name": "python3"
  },
  "language_info": {
   "codemirror_mode": {
    "name": "ipython",
    "version": 3
   },
   "file_extension": ".py",
   "mimetype": "text/x-python",
   "name": "python",
   "nbconvert_exporter": "python",
   "pygments_lexer": "ipython3",
   "version": "3.10.11"
  }
 },
 "nbformat": 4,
 "nbformat_minor": 2
}
