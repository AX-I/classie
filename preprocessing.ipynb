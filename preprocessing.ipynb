{
 "cells": [
  {
   "cell_type": "code",
   "execution_count": 2,
   "metadata": {},
   "outputs": [],
   "source": [
    "# Importing all required methods\n",
    "%matplotlib inline\n",
    "\n",
    "import torch\n",
    "import torch.nn as nn\n",
    "import torchvision.models as models\n",
    "import torchvision.transforms as transforms\n",
    "import torchvision.datasets as datasets\n",
    "from torch.utils.data import DataLoader\n",
    "from torch.optim import Adam\n",
    "import os\n",
    "import IPython.display as ipd\n",
    "import numpy as np\n",
    "import pandas as pd\n",
    "import matplotlib.pyplot as plt\n",
    "import seaborn as sns\n",
    "# from sklearn.preprocessing import MultiLabelBinarizer\n",
    "import myutils"
   ]
  },
  {
   "cell_type": "code",
   "execution_count": 3,
   "metadata": {},
   "outputs": [
    {
     "name": "stdout",
     "output_type": "stream",
     "text": [
      "Current directory: c:\\Users\\Tobey\\Desktop\\csc413-final-project\n"
     ]
    }
   ],
   "source": [
    "# Directory where mp3 are stored.\n",
    "AUDIO_DIR = os.environ.get('AUDIO_DIR')\n",
    "# current_directory = os.getcwd()\n",
    "\n",
    "# Load metadata and features.\n",
    "tracks = myutils.load('data/fma_metadata/tracks.csv')\n",
    "genres = myutils.load('data/fma_metadata/genres.csv')\n",
    "features = myutils.load('data/fma_metadata/features.csv')\n",
    "echonest = myutils.load('data/fma_metadata/echonest.csv')"
   ]
  },
  {
   "cell_type": "code",
   "execution_count": 5,
   "metadata": {},
   "outputs": [],
   "source": [
    "# get tracks for small data set\n",
    "small_tracks = tracks[tracks['set', 'subset'] <= 'small']\n",
    "\n",
    "# get features for small dataset \n",
    "small_features = features[tracks['set', 'subset'] <= 'small']\n",
    "\n",
    "# select top genre column\n",
    "hottest_genres = small_tracks[\"track\"][\"genre_top\"]\n",
    "hottest_genres = hottest_genres.to_frame()\n",
    "hottest_genres = hottest_genres.dropna()\n",
    "\n",
    "# get indices\n",
    "ids = hottest_genres.index.values.reshape(-1, 1)\n",
    "# note: track ids for tracks that ONLY have a valid top_genre\n",
    "\n",
    "# Extract categories from categorical column\n",
    "categories = hottest_genres['genre_top'].cat.categories\n",
    "\n",
    "# Convert categories to a dictionary mapping category values to integer indices\n",
    "categories_dict = {category: i for i, category in enumerate(categories)}\n",
    "\n",
    "# convert to integer codes\n",
    "hottest_genres['genre_top'] = hottest_genres['genre_top'].cat.codes\n",
    "\n",
    "# convert to array\n",
    "hottest_genres = np.array(hottest_genres)\n",
    "\n",
    "# create labels data \n",
    "labels = np.zeros((hottest_genres.shape[0], 16))\n",
    "labels[np.arange(hottest_genres.shape[0]), hottest_genres.flatten()] = 1"
   ]
  },
  {
   "cell_type": "code",
   "execution_count": 17,
   "metadata": {},
   "outputs": [
    {
     "name": "stdout",
     "output_type": "stream",
     "text": [
      "feature    chroma_cens                                                    \\\n",
      "statistics    kurtosis                                                     \n",
      "number              01        02        03        04        05        06   \n",
      "track_id                                                                   \n",
      "2             7.180653  5.230309  0.249321  1.347620  1.482478  0.531371   \n",
      "5             0.527563 -0.077654 -0.279610  0.685883  1.937570  0.880839   \n",
      "10            3.702245 -0.291193  2.196742 -0.234449  1.367364  0.998411   \n",
      "140           0.533579 -0.623885 -1.086205 -1.081079 -0.765151 -0.072282   \n",
      "141           0.172898 -0.284804 -1.169662 -1.062855 -0.706868 -0.708281   \n",
      "...                ...       ...       ...       ...       ...       ...   \n",
      "154308       -0.677709 -0.830608 -0.686122  0.185158  2.854806 -1.131797   \n",
      "154309       -0.585059 -0.635075 -0.194742 -0.434809 -1.357310 -0.257745   \n",
      "154413       -0.214509 -1.130469  0.718534 -0.368448 -0.147830 -0.099409   \n",
      "154414       -0.487371 -0.923754 -0.283099 -0.435221 -1.137329 -0.798039   \n",
      "155066        0.044216 -0.300441 -0.217022 -0.356106 -1.085789 -1.185135   \n",
      "\n",
      "feature                                             ...   tonnetz            \\\n",
      "statistics                                          ...       std             \n",
      "number            07        08        09        10  ...        04        05   \n",
      "track_id                                            ...                       \n",
      "2           1.481593  2.691455  0.866868  1.341231  ...  0.054125  0.012226   \n",
      "5          -0.923192 -0.927232  0.666617  1.038546  ...  0.040730  0.012691   \n",
      "10          1.770694  1.604566  0.521217  1.982386  ...  0.074358  0.017952   \n",
      "140        -0.882913 -0.582376 -0.884749 -0.645214  ...  0.157683  0.028070   \n",
      "141        -0.204884  0.023624 -0.642770 -0.786291  ...  0.145994  0.024342   \n",
      "...              ...       ...       ...       ...  ...       ...       ...   \n",
      "154308     -1.161222 -1.110237 -0.818111 -1.388484  ...  0.117287  0.021906   \n",
      "154309     -0.639082 -0.572640 -1.225242  5.548715  ...  0.180397  0.029303   \n",
      "154413     -1.325709 -0.105248 -1.363881  1.229534  ...  0.156587  0.036926   \n",
      "154414     -0.258168  1.004049 -0.499121  0.746973  ...  0.181294  0.026723   \n",
      "155066     -0.655948 -1.517006 -0.490595 -1.267883  ...  0.189816  0.029439   \n",
      "\n",
      "feature                      zcr                                          \\\n",
      "statistics              kurtosis       max      mean    median       min   \n",
      "number            06          01        01        01        01        01   \n",
      "track_id                                                                   \n",
      "2           0.012111    5.758890  0.459473  0.085629  0.071289  0.000000   \n",
      "5           0.014759    6.808415  0.375000  0.053114  0.041504  0.000000   \n",
      "10          0.013921   21.434212  0.452148  0.077515  0.071777  0.000000   \n",
      "140         0.025946   11.052547  0.379395  0.052379  0.036621  0.001953   \n",
      "141         0.032111   32.994659  0.415527  0.040267  0.034668  0.002930   \n",
      "...              ...         ...       ...       ...       ...       ...   \n",
      "154308      0.021999   53.807804  0.769043  0.042997  0.022949  0.001953   \n",
      "154309      0.023771   12.597441  0.768555  0.082979  0.037109  0.008789   \n",
      "154413      0.038113   25.368595  0.323242  0.024532  0.018066  0.000977   \n",
      "154414      0.030980   21.276468  0.511230  0.046116  0.033691  0.003418   \n",
      "155066      0.025806  116.044044  0.554199  0.016058  0.009766  0.000000   \n",
      "\n",
      "feature                         \n",
      "statistics      skew       std  \n",
      "number            01        01  \n",
      "track_id                        \n",
      "2           2.089872  0.061448  \n",
      "5           2.193303  0.044861  \n",
      "10          3.542325  0.040800  \n",
      "140         3.143968  0.057712  \n",
      "141         4.204097  0.028665  \n",
      "...              ...       ...  \n",
      "154308      6.928385  0.084298  \n",
      "154309      3.441251  0.129480  \n",
      "154413      3.736646  0.023821  \n",
      "154414      3.997052  0.045733  \n",
      "155066      9.688635  0.030787  \n",
      "\n",
      "[8000 rows x 518 columns]\n"
     ]
    }
   ],
   "source": [
    "# filter the feature dataframe to only have the tracks in 'ids':\n",
    "\n",
    "# flattening ids to single list, to make easier to work with\n",
    "flattened_ids = [item for sublist in ids for item in sublist]\n",
    "\n",
    "# filtering the ids out from features\n",
    "filtered_features = features.loc[flattened_ids]\n",
    "# note: this only has the 8000 tracks now from fma_small!\n",
    "print(filtered_features)"
   ]
  },
  {
   "cell_type": "code",
   "execution_count": 18,
   "metadata": {},
   "outputs": [],
   "source": [
    "# TODO: Create 8000x512 for track <-> feature data storage."
   ]
  },
  {
   "cell_type": "code",
   "execution_count": null,
   "metadata": {},
   "outputs": [],
   "source": [
    "# TODO: Create 8000xspectrogram_data for each track"
   ]
  }
 ],
 "metadata": {
  "kernelspec": {
   "display_name": "Python 3",
   "language": "python",
   "name": "python3"
  },
  "language_info": {
   "codemirror_mode": {
    "name": "ipython",
    "version": 3
   },
   "file_extension": ".py",
   "mimetype": "text/x-python",
   "name": "python",
   "nbconvert_exporter": "python",
   "pygments_lexer": "ipython3",
   "version": "3.10.8"
  }
 },
 "nbformat": 4,
 "nbformat_minor": 2
}
