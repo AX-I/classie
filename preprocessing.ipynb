{
 "cells": [
  {
   "cell_type": "code",
   "execution_count": 4,
   "metadata": {},
   "outputs": [],
   "source": [
    "# Importing all required methods\n",
    "%matplotlib inline\n",
    "\n",
    "import torch\n",
    "import torch.nn as nn\n",
    "import torchvision.models as models\n",
    "import torchvision.transforms as transforms\n",
    "import torchvision.datasets as datasets\n",
    "from torch.utils.data import DataLoader\n",
    "from torch.optim import Adam\n",
    "import os\n",
    "import IPython.display as ipd\n",
    "import numpy as np\n",
    "import pandas as pd\n",
    "import matplotlib.pyplot as plt\n",
    "import seaborn as sns\n",
    "# from sklearn.preprocessing import MultiLabelBinarizer\n",
    "import myutils"
   ]
  },
  {
   "cell_type": "code",
   "execution_count": 5,
   "metadata": {},
   "outputs": [
    {
     "name": "stdout",
     "output_type": "stream",
     "text": [
      "Current directory: c:\\Users\\Tobey\\Desktop\\csc413-final-project\n"
     ]
    }
   ],
   "source": [
    "# Directory where mp3 are stored.\n",
    "AUDIO_DIR = os.environ.get('AUDIO_DIR')\n",
    "current_directory = os.getcwd()\n",
    "\n",
    "# Print the current working directory\n",
    "print(\"Current directory:\", current_directory)\n",
    "\n",
    "# Load metadata and features.\n",
    "tracks = myutils.load('data/fma_metadata/tracks.csv')\n",
    "genres = myutils.load('data/fma_metadata/genres.csv')\n",
    "features = myutils.load('data/fma_metadata/features.csv')\n",
    "echonest = myutils.load('data/fma_metadata/echonest.csv')"
   ]
  },
  {
   "cell_type": "code",
   "execution_count": 87,
   "metadata": {},
   "outputs": [],
   "source": [
    "# get tracks for small data set\n",
    "small_tracks = tracks[tracks['set', 'subset'] <= 'small']\n",
    "\n",
    "# get features for small dataset \n",
    "small_features = features[tracks['set', 'subset'] <= 'small']\n",
    "\n",
    "# select top genre column\n",
    "hottest_genres = small_tracks[\"track\"][\"genre_top\"]\n",
    "hottest_genres = hottest_genres.to_frame()\n",
    "hottest_genres = hottest_genres.dropna()\n",
    "\n",
    "# get indices\n",
    "ids = hottest_genres.index.values.reshape(-1, 1)\n",
    "# note: track ids for tracks that ONLY have a valid top_genre\n",
    "\n",
    "# Extract categories from categorical column\n",
    "categories = hottest_genres['genre_top'].cat.categories\n",
    "\n",
    "# Convert categories to a dictionary mapping category values to integer indices\n",
    "categories_dict = {category: i for i, category in enumerate(categories)}\n",
    "\n",
    "# convert to integer codes\n",
    "hottest_genres['genre_top'] = hottest_genres['genre_top'].cat.codes\n",
    "\n",
    "# convert to array\n",
    "hottest_genres = np.array(hottest_genres)\n",
    "\n",
    "# create labels data \n",
    "labels = np.zeros((hottest_genres.shape[0], 16))\n",
    "labels[np.arange(hottest_genres.shape[0]), hottest_genres.flatten()] = 1"
   ]
  },
  {
   "cell_type": "code",
   "execution_count": null,
   "metadata": {},
   "outputs": [],
   "source": [
    "# TODO: filter the feature dataframe to only have the tracks in 'ids':"
   ]
  },
  {
   "cell_type": "code",
   "execution_count": null,
   "metadata": {},
   "outputs": [],
   "source": [
    "# TODO: Create 8000x512 for track <-> feature data storage.\n",
    "# features.head(5).style.format('{:.2f}')"
   ]
  },
  {
   "cell_type": "code",
   "execution_count": null,
   "metadata": {},
   "outputs": [],
   "source": [
    "# TODO: Create 8000xspectrogram_data for each track"
   ]
  }
 ],
 "metadata": {
  "kernelspec": {
   "display_name": "Python 3",
   "language": "python",
   "name": "python3"
  },
  "language_info": {
   "codemirror_mode": {
    "name": "ipython",
    "version": 3
   },
   "file_extension": ".py",
   "mimetype": "text/x-python",
   "name": "python",
   "nbconvert_exporter": "python",
   "pygments_lexer": "ipython3",
   "version": "3.10.8"
  }
 },
 "nbformat": 4,
 "nbformat_minor": 2
}
